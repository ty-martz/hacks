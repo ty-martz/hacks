{
 "cells": [
  {
   "cell_type": "code",
   "execution_count": 1,
   "metadata": {},
   "outputs": [],
   "source": [
    "import sounddevice as sd\n",
    "from scipy.io.wavfile import write\n",
    "\n",
    "fs = 44100\n",
    "sd.default.samplerate = fs\n",
    "sd.default.channels = 2"
   ]
  },
  {
   "cell_type": "code",
   "execution_count": 2,
   "metadata": {},
   "outputs": [],
   "source": [
    "seconds = 5  # Duration of recording\n",
    "\n",
    "#myrecording = sd.rec(int(seconds * fs))\n",
    "#sd.wait()  # Wait until recording is finished\n",
    "#write('output.wav', fs, myrecording)  # Save as WAV file "
   ]
  },
  {
   "cell_type": "code",
   "execution_count": 3,
   "metadata": {},
   "outputs": [],
   "source": [
    "#sd.play(myrecording)\n",
    "#sd.wait()"
   ]
  },
  {
   "cell_type": "code",
   "execution_count": 4,
   "metadata": {},
   "outputs": [
    {
     "name": "stderr",
     "output_type": "stream",
     "text": [
      "c:\\Users\\Ty Martz\\Anaconda3\\envs\\hack_env\\lib\\site-packages\\tqdm\\auto.py:22: TqdmWarning: IProgress not found. Please update jupyter and ipywidgets. See https://ipywidgets.readthedocs.io/en/stable/user_install.html\n",
      "  from .autonotebook import tqdm as notebook_tqdm\n",
      "100%|███████████████████████████████████████| 139M/139M [00:15<00:00, 9.37MiB/s]\n"
     ]
    }
   ],
   "source": [
    "import whisper\n",
    "model = whisper.load_model(\"base\")"
   ]
  },
  {
   "cell_type": "code",
   "execution_count": 9,
   "metadata": {},
   "outputs": [
    {
     "data": {
      "text/plain": [
       "['output.wav', 'whisper_test.ipynb']"
      ]
     },
     "execution_count": 9,
     "metadata": {},
     "output_type": "execute_result"
    }
   ],
   "source": [
    "import os\n",
    "os.listdir()"
   ]
  },
  {
   "cell_type": "code",
   "execution_count": 13,
   "metadata": {},
   "outputs": [
    {
     "ename": "FileNotFoundError",
     "evalue": "[WinError 2] The system cannot find the file specified",
     "output_type": "error",
     "traceback": [
      "\u001b[1;31m---------------------------------------------------------------------------\u001b[0m",
      "\u001b[1;31mFileNotFoundError\u001b[0m                         Traceback (most recent call last)",
      "\u001b[1;32mc:\\Users\\Ty Martz\\Desktop\\Python\\hacks\\lingo\\whisper_test.ipynb Cell 6\u001b[0m in \u001b[0;36m<cell line: 2>\u001b[1;34m()\u001b[0m\n\u001b[0;32m      <a href='vscode-notebook-cell:/c%3A/Users/Ty%20Martz/Desktop/Python/hacks/lingo/whisper_test.ipynb#W4sZmlsZQ%3D%3D?line=0'>1</a>\u001b[0m \u001b[39m# load audio and pad/trim it to fit 30 seconds\u001b[39;00m\n\u001b[1;32m----> <a href='vscode-notebook-cell:/c%3A/Users/Ty%20Martz/Desktop/Python/hacks/lingo/whisper_test.ipynb#W4sZmlsZQ%3D%3D?line=1'>2</a>\u001b[0m audio \u001b[39m=\u001b[39m whisper\u001b[39m.\u001b[39;49mload_audio(\u001b[39m\"\u001b[39;49m\u001b[39moutput.wav\u001b[39;49m\u001b[39m\"\u001b[39;49m)\n\u001b[0;32m      <a href='vscode-notebook-cell:/c%3A/Users/Ty%20Martz/Desktop/Python/hacks/lingo/whisper_test.ipynb#W4sZmlsZQ%3D%3D?line=2'>3</a>\u001b[0m audio \u001b[39m=\u001b[39m whisper\u001b[39m.\u001b[39mpad_or_trim(audio)\n\u001b[0;32m      <a href='vscode-notebook-cell:/c%3A/Users/Ty%20Martz/Desktop/Python/hacks/lingo/whisper_test.ipynb#W4sZmlsZQ%3D%3D?line=4'>5</a>\u001b[0m \u001b[39m# make log-Mel spectrogram and move to the same device as the model\u001b[39;00m\n",
      "File \u001b[1;32mc:\\Users\\Ty Martz\\Anaconda3\\envs\\hack_env\\lib\\site-packages\\whisper\\audio.py:42\u001b[0m, in \u001b[0;36mload_audio\u001b[1;34m(file, sr)\u001b[0m\n\u001b[0;32m     23\u001b[0m \u001b[39m\"\"\"\u001b[39;00m\n\u001b[0;32m     24\u001b[0m \u001b[39mOpen an audio file and read as mono waveform, resampling as necessary\u001b[39;00m\n\u001b[0;32m     25\u001b[0m \n\u001b[1;32m   (...)\u001b[0m\n\u001b[0;32m     36\u001b[0m \u001b[39mA NumPy array containing the audio waveform, in float32 dtype.\u001b[39;00m\n\u001b[0;32m     37\u001b[0m \u001b[39m\"\"\"\u001b[39;00m\n\u001b[0;32m     38\u001b[0m \u001b[39mtry\u001b[39;00m:\n\u001b[0;32m     39\u001b[0m     \u001b[39m# This launches a subprocess to decode audio while down-mixing and resampling as necessary.\u001b[39;00m\n\u001b[0;32m     40\u001b[0m     \u001b[39m# Requires the ffmpeg CLI and `ffmpeg-python` package to be installed.\u001b[39;00m\n\u001b[0;32m     41\u001b[0m     out, _ \u001b[39m=\u001b[39m (\n\u001b[1;32m---> 42\u001b[0m         ffmpeg\u001b[39m.\u001b[39;49minput(file, threads\u001b[39m=\u001b[39;49m\u001b[39m0\u001b[39;49m)\n\u001b[0;32m     43\u001b[0m         \u001b[39m.\u001b[39;49moutput(\u001b[39m\"\u001b[39;49m\u001b[39m-\u001b[39;49m\u001b[39m\"\u001b[39;49m, \u001b[39mformat\u001b[39;49m\u001b[39m=\u001b[39;49m\u001b[39m\"\u001b[39;49m\u001b[39ms16le\u001b[39;49m\u001b[39m\"\u001b[39;49m, acodec\u001b[39m=\u001b[39;49m\u001b[39m\"\u001b[39;49m\u001b[39mpcm_s16le\u001b[39;49m\u001b[39m\"\u001b[39;49m, ac\u001b[39m=\u001b[39;49m\u001b[39m1\u001b[39;49m, ar\u001b[39m=\u001b[39;49msr)\n\u001b[0;32m     44\u001b[0m         \u001b[39m.\u001b[39;49mrun(cmd\u001b[39m=\u001b[39;49m[\u001b[39m\"\u001b[39;49m\u001b[39mffmpeg\u001b[39;49m\u001b[39m\"\u001b[39;49m, \u001b[39m\"\u001b[39;49m\u001b[39m-nostdin\u001b[39;49m\u001b[39m\"\u001b[39;49m], capture_stdout\u001b[39m=\u001b[39;49m\u001b[39mTrue\u001b[39;49;00m, capture_stderr\u001b[39m=\u001b[39;49m\u001b[39mTrue\u001b[39;49;00m)\n\u001b[0;32m     45\u001b[0m     )\n\u001b[0;32m     46\u001b[0m \u001b[39mexcept\u001b[39;00m ffmpeg\u001b[39m.\u001b[39mError \u001b[39mas\u001b[39;00m e:\n\u001b[0;32m     47\u001b[0m     \u001b[39mraise\u001b[39;00m \u001b[39mRuntimeError\u001b[39;00m(\u001b[39mf\u001b[39m\u001b[39m\"\u001b[39m\u001b[39mFailed to load audio: \u001b[39m\u001b[39m{\u001b[39;00me\u001b[39m.\u001b[39mstderr\u001b[39m.\u001b[39mdecode()\u001b[39m}\u001b[39;00m\u001b[39m\"\u001b[39m) \u001b[39mfrom\u001b[39;00m \u001b[39me\u001b[39;00m\n",
      "File \u001b[1;32mc:\\Users\\Ty Martz\\Anaconda3\\envs\\hack_env\\lib\\site-packages\\ffmpeg\\_run.py:313\u001b[0m, in \u001b[0;36mrun\u001b[1;34m(stream_spec, cmd, capture_stdout, capture_stderr, input, quiet, overwrite_output)\u001b[0m\n\u001b[0;32m    289\u001b[0m \u001b[39m@output_operator\u001b[39m()\n\u001b[0;32m    290\u001b[0m \u001b[39mdef\u001b[39;00m \u001b[39mrun\u001b[39m(\n\u001b[0;32m    291\u001b[0m     stream_spec,\n\u001b[1;32m   (...)\u001b[0m\n\u001b[0;32m    297\u001b[0m     overwrite_output\u001b[39m=\u001b[39m\u001b[39mFalse\u001b[39;00m,\n\u001b[0;32m    298\u001b[0m ):\n\u001b[0;32m    299\u001b[0m     \u001b[39m\"\"\"Invoke ffmpeg for the supplied node graph.\u001b[39;00m\n\u001b[0;32m    300\u001b[0m \n\u001b[0;32m    301\u001b[0m \u001b[39m    Args:\u001b[39;00m\n\u001b[1;32m   (...)\u001b[0m\n\u001b[0;32m    311\u001b[0m \u001b[39m    Returns: (out, err) tuple containing captured stdout and stderr data.\u001b[39;00m\n\u001b[0;32m    312\u001b[0m \u001b[39m    \"\"\"\u001b[39;00m\n\u001b[1;32m--> 313\u001b[0m     process \u001b[39m=\u001b[39m run_async(\n\u001b[0;32m    314\u001b[0m         stream_spec,\n\u001b[0;32m    315\u001b[0m         cmd,\n\u001b[0;32m    316\u001b[0m         pipe_stdin\u001b[39m=\u001b[39;49m\u001b[39minput\u001b[39;49m \u001b[39mis\u001b[39;49;00m \u001b[39mnot\u001b[39;49;00m \u001b[39mNone\u001b[39;49;00m,\n\u001b[0;32m    317\u001b[0m         pipe_stdout\u001b[39m=\u001b[39;49mcapture_stdout,\n\u001b[0;32m    318\u001b[0m         pipe_stderr\u001b[39m=\u001b[39;49mcapture_stderr,\n\u001b[0;32m    319\u001b[0m         quiet\u001b[39m=\u001b[39;49mquiet,\n\u001b[0;32m    320\u001b[0m         overwrite_output\u001b[39m=\u001b[39;49moverwrite_output,\n\u001b[0;32m    321\u001b[0m     )\n\u001b[0;32m    322\u001b[0m     out, err \u001b[39m=\u001b[39m process\u001b[39m.\u001b[39mcommunicate(\u001b[39minput\u001b[39m)\n\u001b[0;32m    323\u001b[0m     retcode \u001b[39m=\u001b[39m process\u001b[39m.\u001b[39mpoll()\n",
      "File \u001b[1;32mc:\\Users\\Ty Martz\\Anaconda3\\envs\\hack_env\\lib\\site-packages\\ffmpeg\\_run.py:284\u001b[0m, in \u001b[0;36mrun_async\u001b[1;34m(stream_spec, cmd, pipe_stdin, pipe_stdout, pipe_stderr, quiet, overwrite_output)\u001b[0m\n\u001b[0;32m    282\u001b[0m stdout_stream \u001b[39m=\u001b[39m subprocess\u001b[39m.\u001b[39mPIPE \u001b[39mif\u001b[39;00m pipe_stdout \u001b[39mor\u001b[39;00m quiet \u001b[39melse\u001b[39;00m \u001b[39mNone\u001b[39;00m\n\u001b[0;32m    283\u001b[0m stderr_stream \u001b[39m=\u001b[39m subprocess\u001b[39m.\u001b[39mPIPE \u001b[39mif\u001b[39;00m pipe_stderr \u001b[39mor\u001b[39;00m quiet \u001b[39melse\u001b[39;00m \u001b[39mNone\u001b[39;00m\n\u001b[1;32m--> 284\u001b[0m \u001b[39mreturn\u001b[39;00m subprocess\u001b[39m.\u001b[39;49mPopen(\n\u001b[0;32m    285\u001b[0m     args, stdin\u001b[39m=\u001b[39;49mstdin_stream, stdout\u001b[39m=\u001b[39;49mstdout_stream, stderr\u001b[39m=\u001b[39;49mstderr_stream\n\u001b[0;32m    286\u001b[0m )\n",
      "File \u001b[1;32mc:\\Users\\Ty Martz\\Anaconda3\\envs\\hack_env\\lib\\subprocess.py:969\u001b[0m, in \u001b[0;36mPopen.__init__\u001b[1;34m(self, args, bufsize, executable, stdin, stdout, stderr, preexec_fn, close_fds, shell, cwd, env, universal_newlines, startupinfo, creationflags, restore_signals, start_new_session, pass_fds, user, group, extra_groups, encoding, errors, text, umask, pipesize)\u001b[0m\n\u001b[0;32m    965\u001b[0m         \u001b[39mif\u001b[39;00m \u001b[39mself\u001b[39m\u001b[39m.\u001b[39mtext_mode:\n\u001b[0;32m    966\u001b[0m             \u001b[39mself\u001b[39m\u001b[39m.\u001b[39mstderr \u001b[39m=\u001b[39m io\u001b[39m.\u001b[39mTextIOWrapper(\u001b[39mself\u001b[39m\u001b[39m.\u001b[39mstderr,\n\u001b[0;32m    967\u001b[0m                     encoding\u001b[39m=\u001b[39mencoding, errors\u001b[39m=\u001b[39merrors)\n\u001b[1;32m--> 969\u001b[0m     \u001b[39mself\u001b[39;49m\u001b[39m.\u001b[39;49m_execute_child(args, executable, preexec_fn, close_fds,\n\u001b[0;32m    970\u001b[0m                         pass_fds, cwd, env,\n\u001b[0;32m    971\u001b[0m                         startupinfo, creationflags, shell,\n\u001b[0;32m    972\u001b[0m                         p2cread, p2cwrite,\n\u001b[0;32m    973\u001b[0m                         c2pread, c2pwrite,\n\u001b[0;32m    974\u001b[0m                         errread, errwrite,\n\u001b[0;32m    975\u001b[0m                         restore_signals,\n\u001b[0;32m    976\u001b[0m                         gid, gids, uid, umask,\n\u001b[0;32m    977\u001b[0m                         start_new_session)\n\u001b[0;32m    978\u001b[0m \u001b[39mexcept\u001b[39;00m:\n\u001b[0;32m    979\u001b[0m     \u001b[39m# Cleanup if the child failed starting.\u001b[39;00m\n\u001b[0;32m    980\u001b[0m     \u001b[39mfor\u001b[39;00m f \u001b[39min\u001b[39;00m \u001b[39mfilter\u001b[39m(\u001b[39mNone\u001b[39;00m, (\u001b[39mself\u001b[39m\u001b[39m.\u001b[39mstdin, \u001b[39mself\u001b[39m\u001b[39m.\u001b[39mstdout, \u001b[39mself\u001b[39m\u001b[39m.\u001b[39mstderr)):\n",
      "File \u001b[1;32mc:\\Users\\Ty Martz\\Anaconda3\\envs\\hack_env\\lib\\subprocess.py:1438\u001b[0m, in \u001b[0;36mPopen._execute_child\u001b[1;34m(self, args, executable, preexec_fn, close_fds, pass_fds, cwd, env, startupinfo, creationflags, shell, p2cread, p2cwrite, c2pread, c2pwrite, errread, errwrite, unused_restore_signals, unused_gid, unused_gids, unused_uid, unused_umask, unused_start_new_session)\u001b[0m\n\u001b[0;32m   1436\u001b[0m \u001b[39m# Start the process\u001b[39;00m\n\u001b[0;32m   1437\u001b[0m \u001b[39mtry\u001b[39;00m:\n\u001b[1;32m-> 1438\u001b[0m     hp, ht, pid, tid \u001b[39m=\u001b[39m _winapi\u001b[39m.\u001b[39;49mCreateProcess(executable, args,\n\u001b[0;32m   1439\u001b[0m                              \u001b[39m# no special security\u001b[39;49;00m\n\u001b[0;32m   1440\u001b[0m                              \u001b[39mNone\u001b[39;49;00m, \u001b[39mNone\u001b[39;49;00m,\n\u001b[0;32m   1441\u001b[0m                              \u001b[39mint\u001b[39;49m(\u001b[39mnot\u001b[39;49;00m close_fds),\n\u001b[0;32m   1442\u001b[0m                              creationflags,\n\u001b[0;32m   1443\u001b[0m                              env,\n\u001b[0;32m   1444\u001b[0m                              cwd,\n\u001b[0;32m   1445\u001b[0m                              startupinfo)\n\u001b[0;32m   1446\u001b[0m \u001b[39mfinally\u001b[39;00m:\n\u001b[0;32m   1447\u001b[0m     \u001b[39m# Child is launched. Close the parent's copy of those pipe\u001b[39;00m\n\u001b[0;32m   1448\u001b[0m     \u001b[39m# handles that only the child should have open.  You need\u001b[39;00m\n\u001b[1;32m   (...)\u001b[0m\n\u001b[0;32m   1451\u001b[0m     \u001b[39m# pipe will not close when the child process exits and the\u001b[39;00m\n\u001b[0;32m   1452\u001b[0m     \u001b[39m# ReadFile will hang.\u001b[39;00m\n\u001b[0;32m   1453\u001b[0m     \u001b[39mself\u001b[39m\u001b[39m.\u001b[39m_close_pipe_fds(p2cread, p2cwrite,\n\u001b[0;32m   1454\u001b[0m                          c2pread, c2pwrite,\n\u001b[0;32m   1455\u001b[0m                          errread, errwrite)\n",
      "\u001b[1;31mFileNotFoundError\u001b[0m: [WinError 2] The system cannot find the file specified"
     ]
    }
   ],
   "source": [
    "# load audio and pad/trim it to fit 30 seconds\n",
    "audio = whisper.load_audio(\"output.wav\")\n",
    "audio = whisper.pad_or_trim(audio)\n",
    "\n",
    "# make log-Mel spectrogram and move to the same device as the model\n",
    "mel = whisper.log_mel_spectrogram(audio).to(model.device)\n",
    "\n",
    "# detect the spoken language\n",
    "#_, probs = model.detect_language(mel)\n",
    "#print(f\"Detected language: {max(probs, key=probs.get)}\")\n",
    "\n",
    "# decode the audio\n",
    "options = whisper.DecodingOptions()\n",
    "result = whisper.decode(model, mel, options)\n",
    "\n",
    "# print the recognized text\n",
    "print(result.text)"
   ]
  },
  {
   "cell_type": "code",
   "execution_count": null,
   "metadata": {},
   "outputs": [],
   "source": []
  }
 ],
 "metadata": {
  "kernelspec": {
   "display_name": "Python 3.10.6 ('hack_env')",
   "language": "python",
   "name": "python3"
  },
  "language_info": {
   "codemirror_mode": {
    "name": "ipython",
    "version": 3
   },
   "file_extension": ".py",
   "mimetype": "text/x-python",
   "name": "python",
   "nbconvert_exporter": "python",
   "pygments_lexer": "ipython3",
   "version": "3.10.6"
  },
  "orig_nbformat": 4,
  "vscode": {
   "interpreter": {
    "hash": "79fe5bfb3b54e56243b629d6091d127cedda9dfb8a7082add3b00f6c956d74e8"
   }
  }
 },
 "nbformat": 4,
 "nbformat_minor": 2
}
