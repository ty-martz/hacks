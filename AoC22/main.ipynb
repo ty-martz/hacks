{
 "cells": [
  {
   "cell_type": "markdown",
   "metadata": {},
   "source": [
    "### Day 1"
   ]
  },
  {
   "cell_type": "code",
   "execution_count": 2,
   "metadata": {},
   "outputs": [
    {
     "name": "stdout",
     "output_type": "stream",
     "text": [
      "Answer one = 70374\n",
      "Answer two = 204610\n"
     ]
    }
   ],
   "source": [
    "with open('d1.txt', 'r') as dat:\n",
    "    dl = list(dat.read().split('\\n'))\n",
    "\n",
    "tots = []\n",
    "sub = []\n",
    "for cal in dl:\n",
    "    if cal == '':\n",
    "        tots.append(sum(sub))\n",
    "        sub = []\n",
    "    else:\n",
    "        sub.append(int(cal))\n",
    "\n",
    "print(f'Answer one = {max(tots)}')\n",
    "\n",
    "tots.sort()\n",
    "print(f'Answer two = {sum((tots[-3:]))}')"
   ]
  },
  {
   "cell_type": "markdown",
   "metadata": {},
   "source": [
    "### Day 2"
   ]
  },
  {
   "cell_type": "code",
   "execution_count": 4,
   "metadata": {},
   "outputs": [
    {
     "name": "stdout",
     "output_type": "stream",
     "text": [
      "Part 1 = 15523\n",
      "Part 2 = 15702\n"
     ]
    }
   ],
   "source": [
    "with open('d2.txt', 'r') as dat:\n",
    "    dl = list(dat.read().split('\\n'))\n",
    "    tl = [i.split(' ') for i in dl]\n",
    "\n",
    "c = {'X':1, 'Y':2, 'Z':3}\n",
    "s = {'loss':0, 'draw':3, 'win':6}\n",
    "\n",
    "score = 0\n",
    "for tup in tl:\n",
    "    if tup[0] == 'A':\n",
    "        if tup[1] == 'X':\n",
    "            res = s['draw'] + c[tup[1]]\n",
    "        elif tup[1] == 'Y':\n",
    "            res = s['win'] + c[tup[1]]\n",
    "        elif tup[1] == 'Z':\n",
    "            res = s['loss'] + c[tup[1]]\n",
    "    elif tup[0] == 'B':\n",
    "        if tup[1] == 'X':\n",
    "            res = s['loss'] + c[tup[1]]\n",
    "        elif tup[1] == 'Y':\n",
    "            res = s['draw'] + c[tup[1]]\n",
    "        elif tup[1] == 'Z':\n",
    "            res = s['win'] + c[tup[1]]\n",
    "    elif tup[0] == 'C':\n",
    "        if tup[1] == 'X':\n",
    "            res = s['win'] + c[tup[1]]\n",
    "        elif tup[1] == 'Y':\n",
    "            res = s['loss'] + c[tup[1]]\n",
    "        elif tup[1] == 'Z':\n",
    "            res = s['draw'] + c[tup[1]]\n",
    "    score += res\n",
    "print(f'Part 1 = {score}')\n",
    "\n",
    "out = {'X':0, 'Y':3, 'Z':6}\n",
    "outcome_dict = {\n",
    "    'A':{'X':'Z', 'Y':'X', 'Z':'Y'},\n",
    "    'B':{'X':'X', 'Y':'Y', 'Z':'Z'},\n",
    "    'C':{'X':'Y', 'Y':'Z', 'Z':'X'}\n",
    "}\n",
    "total = 0\n",
    "for tup in tl:\n",
    "    total += out[tup[1]] + c[outcome_dict[tup[0]][tup[1]]]\n",
    "print(f'Part 2 = {total}')\n"
   ]
  },
  {
   "cell_type": "markdown",
   "metadata": {},
   "source": [
    "### Day 3"
   ]
  },
  {
   "cell_type": "code",
   "execution_count": null,
   "metadata": {},
   "outputs": [],
   "source": [
    "with open('d3.txt') as f:\n",
    "    dat = f.read().split('\\n')\n",
    "\n",
    "alph = ['a', 'b', 'c', 'd', 'e', 'f', 'g', 'h', 'i', 'j', 'k', 'l', 'm', 'n', 'o', 'p', 'q', 'r', 's', 't', 'u', 'v', 'w', 'x', 'y', 'z']\n",
    "alph.extend([x.upper() for x in alph])\n",
    "amap = {k:v+1 for v,k in enumerate(alph)}\n",
    "\n",
    "tups = [(a[:(len(a)//2)], a[(len(a)//2):]) for a in dat]\n",
    "value = 0\n",
    "for t in tups:\n",
    "    for l in t[0]:\n",
    "        if l in t[1]:\n",
    "            value += amap[l]\n",
    "            break\n",
    "\n",
    "print(f'Part 1 value = {value}')\n",
    "\n",
    "idx = 0\n",
    "val = 0\n",
    "cnt = 0\n",
    "while idx <= len(dat):\n",
    "    cnt += 1\n",
    "    if cnt > 100:\n",
    "        break\n",
    "    sub = dat[idx:idx+3]\n",
    "\n",
    "    for l in sub[0]:\n",
    "        if l in sub[1]:\n",
    "            if l in sub[2]:\n",
    "                val += amap[l]\n",
    "                break\n",
    "    idx += 3\n",
    "\n",
    "print(f'Part 2 value = {val}')"
   ]
  },
  {
   "cell_type": "markdown",
   "metadata": {},
   "source": [
    "### Day 4"
   ]
  },
  {
   "cell_type": "code",
   "execution_count": null,
   "metadata": {},
   "outputs": [],
   "source": [
    "with open('d4.txt') as f:\n",
    "    dat = f.read().split('\\n')\n",
    "\n",
    "cnt = 0\n",
    "for i in dat:\n",
    "    sub = i.split(',')\n",
    "    rng1 = list(range(int(sub[0].split('-')[0]), int(sub[0].split('-')[1])+1))\n",
    "    rng2 = list(range(int(sub[1].split('-')[0]), int(sub[1].split('-')[1])+1))\n",
    "    \n",
    "    if len(rng1) <= len(rng2):\n",
    "        if all(x in rng2 for x in rng1):\n",
    "            cnt += 1\n",
    "    if len(rng2) < len(rng1):\n",
    "        if all(x in rng1 for x in rng2):\n",
    "            cnt += 1\n",
    "    else:\n",
    "        pass\n",
    "\n",
    "print(f'Part 1 = {cnt}')\n",
    "\n",
    "cnt = 0\n",
    "for i in dat:\n",
    "    sub = i.split(',')\n",
    "    rng1 = list(range(int(sub[0].split('-')[0]), int(sub[0].split('-')[1])+1))\n",
    "    rng2 = list(range(int(sub[1].split('-')[0]), int(sub[1].split('-')[1])+1))\n",
    "\n",
    "    if any(x in rng2 for x in rng1):\n",
    "        cnt += 1\n",
    "\n",
    "print(f'Part 2 count = {cnt}')"
   ]
  },
  {
   "cell_type": "markdown",
   "metadata": {},
   "source": [
    "### Day 5"
   ]
  },
  {
   "cell_type": "code",
   "execution_count": 47,
   "metadata": {},
   "outputs": [
    {
     "name": "stdout",
     "output_type": "stream",
     "text": [
      "Part 1 Answer = TPGVQPFDH\n",
      "Part 2 Answer = DMRDFRHHH\n"
     ]
    }
   ],
   "source": [
    "def read_and_split(path='d5.txt'):\n",
    "    with open(path) as f:\n",
    "        dat = f.read().split('\\n')\n",
    "    split_idx = dat.index('')\n",
    "    return dat[:split_idx], dat[split_idx+1:]\n",
    "\n",
    "def get_top_string(old_model=True):\n",
    "    crates, dirs = read_and_split()\n",
    "\n",
    "    stacks = {}\n",
    "    for i in range(1,10):\n",
    "        ls = [l for l in crates[-1]]\n",
    "        idx = ls.index(str(i))\n",
    "        sub = []\n",
    "        for x in range((len(crates)-1)):\n",
    "            sublist = [n for n in crates[x]]\n",
    "            if sublist[idx] != ' ':\n",
    "                sub.append(sublist[idx])\n",
    "        stacks[i] = sub\n",
    "\n",
    "    oglen = sum([len(stacks[i]) for i in stacks.keys()])\n",
    "\n",
    "    acts = [] # list of tuples (#crates, from, to)\n",
    "    for s in dirs:\n",
    "        lis = s.split(' ')\n",
    "        acts.append((int(lis[1]), int(lis[3]), int(lis[5])))\n",
    "\n",
    "    for a in acts:\n",
    "        move = stacks[a[1]][:a[0]]\n",
    "        del stacks[a[1]][:a[0]]\n",
    "        if old_model:\n",
    "            move.reverse() # since crates are moved one at a time\n",
    "        move.extend(stacks[a[2]])\n",
    "        stacks[a[2]] = move\n",
    "\n",
    "    assert sum([len(stacks[i]) for i in stacks.keys()]) == oglen\n",
    "    if old_model:\n",
    "        print(f\"Part 1 Answer = {''.join([stacks[i][0] for i in stacks.keys()])}\")\n",
    "    else:\n",
    "        print(f\"Part 2 Answer = {''.join([stacks[i][0] for i in stacks.keys()])}\")\n",
    "\n",
    "########\n",
    "for i in [True, False]:\n",
    "    get_top_string(i)\n"
   ]
  },
  {
   "cell_type": "markdown",
   "metadata": {},
   "source": [
    "### Day 6"
   ]
  },
  {
   "cell_type": "code",
   "execution_count": 5,
   "metadata": {},
   "outputs": [
    {
     "name": "stdout",
     "output_type": "stream",
     "text": [
      "Part 1 Answer = 1034\n",
      "Part 2 Answer = 2472\n"
     ]
    }
   ],
   "source": [
    "with open('d6.txt') as f:\n",
    "    dat = f.read()\n",
    "\n",
    "def find_unique_length(length=4):\n",
    "    cnt = length\n",
    "    flag = True\n",
    "    while flag:\n",
    "        if len(set([i for i in dat[cnt-length:cnt]])) == length:\n",
    "            flag = False\n",
    "        else:\n",
    "            cnt +=1\n",
    "    return cnt\n",
    "\n",
    "print(f'Part 1 Answer = {find_unique_length(4)}')\n",
    "\n",
    "########\n",
    "\n",
    "print(f'Part 2 Answer = {find_unique_length(14)}')"
   ]
  },
  {
   "cell_type": "code",
   "execution_count": 48,
   "metadata": {},
   "outputs": [
    {
     "name": "stdout",
     "output_type": "stream",
     "text": [
      "Part 1 answer = 919137\n",
      "Part 2 answer = 2877389\n"
     ]
    }
   ],
   "source": [
    "with open('d7.txt') as f:\n",
    "    dat = f.read().split('\\n')\n",
    "\n",
    "current_folder = ''\n",
    "dirs = set()\n",
    "dirdict = {}\n",
    "\n",
    "for i in range(len(dat)):\n",
    "    cmd = dat[i].split(' ')\n",
    "    if cmd[0] == '$': # command\n",
    "        if cmd[1] == 'cd': # navigate to directory\n",
    "            if current_folder == '' :\n",
    "                if cmd[2] != '/':\n",
    "                    current_folder += f'/{cmd[2]}'\n",
    "                else:\n",
    "                    current_folder += cmd[2]\n",
    "            elif current_folder[-1] == '/':\n",
    "                current_folder += cmd[2]\n",
    "            elif cmd[2] == '..':\n",
    "                current_folder = f\"{'/'.join(current_folder.split('/')[:-1])}\" # drop last directory in the path\n",
    "            else:\n",
    "                current_folder += f'/{cmd[2]}'\n",
    "        \n",
    "        elif cmd[1] == 'ls': # list out files\n",
    "            content_count = 1\n",
    "            dirdict[current_folder] = {'dirs':[], 'local_size':0}\n",
    "            while True:\n",
    "                if i + content_count >= len(dat):\n",
    "                    break\n",
    "                item = dat[i + content_count].split(' ')\n",
    "                if item[0] == '$':\n",
    "                    break\n",
    "                elif item[0] == 'dir':\n",
    "                    dirdict[current_folder]['dirs'].append(item[1])\n",
    "                else:\n",
    "                    try: # in case it is not a number\n",
    "                        dirdict[current_folder]['local_size'] += int(item[0])\n",
    "                        \n",
    "                        # climb back up the path and add sizes\n",
    "                        tmp = '/'.join(current_folder.split('/')[:-1])\n",
    "                        while len(tmp) >= 1:\n",
    "                            dirdict[tmp]['local_size'] += int(item[0])\n",
    "                            tmp = '/'.join(tmp.split('/')[:-1])\n",
    "                        dirdict['/']['local_size'] += int(item[0])\n",
    "                    except:\n",
    "                        print(f'ISSUE: {item[0]} not a number')\n",
    "                content_count += 1\n",
    "\n",
    "answer_sum = 0\n",
    "for path in dirdict.keys():\n",
    "    if dirdict[path]['local_size'] <= 100000:\n",
    "        answer_sum += dirdict[path]['local_size']\n",
    "\n",
    "print(f\"Part 1 answer = {answer_sum}\")\n",
    "\n",
    "########\n",
    "\n",
    "total_space = 70000000\n",
    "required_unused = 30000000\n",
    "\n",
    "current_overused = dirdict['/']['local_size'] - (total_space - required_unused)\n",
    "\n",
    "delete_path = ''\n",
    "delete_val = 1000000000000000000000\n",
    "for path in dirdict.keys():\n",
    "    delete_diff = dirdict[path]['local_size'] - current_overused\n",
    "    if delete_diff > 0:\n",
    "        if delete_diff < delete_val:\n",
    "            delete_path = path\n",
    "            delete_val = delete_diff\n",
    "\n",
    "print(f\"Part 2 answer = {dirdict[delete_path]['local_size']}\")\n"
   ]
  },
  {
   "cell_type": "code",
   "execution_count": null,
   "metadata": {},
   "outputs": [],
   "source": []
  }
 ],
 "metadata": {
  "kernelspec": {
   "display_name": "Python 3.10.6 ('hack_env')",
   "language": "python",
   "name": "python3"
  },
  "language_info": {
   "codemirror_mode": {
    "name": "ipython",
    "version": 3
   },
   "file_extension": ".py",
   "mimetype": "text/x-python",
   "name": "python",
   "nbconvert_exporter": "python",
   "pygments_lexer": "ipython3",
   "version": "3.10.6"
  },
  "orig_nbformat": 4,
  "vscode": {
   "interpreter": {
    "hash": "79fe5bfb3b54e56243b629d6091d127cedda9dfb8a7082add3b00f6c956d74e8"
   }
  }
 },
 "nbformat": 4,
 "nbformat_minor": 2
}
