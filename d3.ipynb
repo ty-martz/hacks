{
 "cells": [
  {
   "cell_type": "code",
   "execution_count": 27,
   "metadata": {},
   "outputs": [],
   "source": [
    "with open('d3.txt') as f:\n",
    "    dat = f.read().split('\\n')"
   ]
  },
  {
   "cell_type": "code",
   "execution_count": 30,
   "metadata": {},
   "outputs": [
    {
     "name": "stdout",
     "output_type": "stream",
     "text": [
      "Part 1 value = 7848\n"
     ]
    }
   ],
   "source": [
    "alph = ['a', 'b', 'c', 'd', 'e', 'f', 'g', 'h', 'i', 'j', 'k', 'l', 'm', 'n', 'o', 'p', 'q', 'r', 's', 't', 'u', 'v', 'w', 'x', 'y', 'z']\n",
    "alph.extend([x.upper() for x in alph])\n",
    "amap = {k:v+1 for v,k in enumerate(alph)}\n",
    "\n",
    "tups = [(a[:(len(a)//2)], a[(len(a)//2):]) for a in dat]\n",
    "value = 0\n",
    "for t in tups:\n",
    "    for l in t[0]:\n",
    "        if l in t[1]:\n",
    "            value += amap[l]\n",
    "            break\n",
    "\n",
    "print(f'Part 1 value = {value}')\n"
   ]
  },
  {
   "cell_type": "code",
   "execution_count": 39,
   "metadata": {},
   "outputs": [
    {
     "name": "stdout",
     "output_type": "stream",
     "text": [
      "300\n",
      "100.0\n",
      "Part 2 value = 2616\n"
     ]
    }
   ],
   "source": [
    "idx = 0\n",
    "val = 0\n",
    "cnt = 0\n",
    "while idx <= len(dat):\n",
    "    cnt += 1\n",
    "    if cnt > 100:\n",
    "        break\n",
    "    sub = dat[idx:idx+3]\n",
    "\n",
    "    for l in sub[0]:\n",
    "        if l in sub[1]:\n",
    "            if l in sub[2]:\n",
    "                val += amap[l]\n",
    "                break\n",
    "    idx += 3\n",
    "\n",
    "\n",
    "print(f'Part 2 value = {val}')\n"
   ]
  },
  {
   "cell_type": "markdown",
   "metadata": {},
   "source": [
    "## Day 4\n"
   ]
  },
  {
   "cell_type": "code",
   "execution_count": 1,
   "metadata": {},
   "outputs": [
    {
     "data": {
      "text/plain": [
       "['67-84,66-87', '70-70,40-69', '32-77,31-78', '10-84,11-96', '15-95,14-94']"
      ]
     },
     "execution_count": 1,
     "metadata": {},
     "output_type": "execute_result"
    }
   ],
   "source": [
    "with open('d4.txt') as f:\n",
    "    dat = f.read().split('\\n')\n",
    "dat[:5]"
   ]
  },
  {
   "cell_type": "code",
   "execution_count": 17,
   "metadata": {},
   "outputs": [
    {
     "name": "stdout",
     "output_type": "stream",
     "text": [
      "Count = 582\n",
      "261\n"
     ]
    }
   ],
   "source": [
    "cnt = 0\n",
    "for i in dat:\n",
    "    sub = i.split(',')\n",
    "    rng1 = list(range(int(sub[0].split('-')[0]), int(sub[0].split('-')[1])+1))\n",
    "    rng2 = list(range(int(sub[1].split('-')[0]), int(sub[1].split('-')[1])+1))\n",
    "    \n",
    "    if len(rng1) <= len(rng2):\n",
    "        if all(x in rng2 for x in rng1):\n",
    "            cnt += 1\n",
    "    if len(rng2) < len(rng1):\n",
    "        if all(x in rng1 for x in rng2):\n",
    "            cnt += 1\n",
    "    else:\n",
    "        pass\n",
    "\n",
    "print(f'Count = {cnt}')"
   ]
  },
  {
   "cell_type": "code",
   "execution_count": 16,
   "metadata": {},
   "outputs": [
    {
     "name": "stdout",
     "output_type": "stream",
     "text": [
      "Part 2 count = 893\n"
     ]
    }
   ],
   "source": [
    "cnt = 0\n",
    "for i in dat:\n",
    "    sub = i.split(',')\n",
    "    rng1 = list(range(int(sub[0].split('-')[0]), int(sub[0].split('-')[1])+1))\n",
    "    rng2 = list(range(int(sub[1].split('-')[0]), int(sub[1].split('-')[1])+1))\n",
    "\n",
    "    #if len(rng1) <= len(rng2):\n",
    "    if any(x in rng2 for x in rng1):\n",
    "        cnt += 1\n",
    "\n",
    "print(f'Part 2 count = {cnt}')"
   ]
  },
  {
   "cell_type": "code",
   "execution_count": null,
   "metadata": {},
   "outputs": [],
   "source": []
  }
 ],
 "metadata": {
  "kernelspec": {
   "display_name": "Python 3.7.6 ('base')",
   "language": "python",
   "name": "python3"
  },
  "language_info": {
   "codemirror_mode": {
    "name": "ipython",
    "version": 3
   },
   "file_extension": ".py",
   "mimetype": "text/x-python",
   "name": "python",
   "nbconvert_exporter": "python",
   "pygments_lexer": "ipython3",
   "version": "3.7.6"
  },
  "orig_nbformat": 4,
  "vscode": {
   "interpreter": {
    "hash": "5bb03e940c544345b14b67868798f30745c024012f437d2694bb75fde42abf26"
   }
  }
 },
 "nbformat": 4,
 "nbformat_minor": 2
}
